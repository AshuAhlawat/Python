{
 "cells": [
  {
   "cell_type": "code",
   "execution_count": 37,
   "metadata": {},
   "outputs": [],
   "source": [
    "# Imports\n",
    "import random"
   ]
  },
  {
   "cell_type": "code",
   "execution_count": 38,
   "metadata": {},
   "outputs": [],
   "source": [
    "# function to take only integer input and loop only break when user gives a valid int input \n",
    "def int_input(argument:str)->int:\n",
    "    agrument = str(argument)\n",
    "    while True:\n",
    "        num = input(argument)\n",
    "\n",
    "        try:\n",
    "            num = int(num)\n",
    "            break\n",
    "        except:\n",
    "            argument = \"Wrong Input, Try Again! :\"\n",
    "\n",
    "    return num"
   ]
  },
  {
   "cell_type": "code",
   "execution_count": 39,
   "metadata": {},
   "outputs": [
    {
     "name": "stdout",
     "output_type": "stream",
     "text": [
      "Game Started\n",
      "You have 4 chances to guess the number from 1 to 20\n"
     ]
    }
   ],
   "source": [
    "print(\"Game Started\")\n",
    "\n",
    "# getting answer range from user\n",
    "range_start = int_input(\"First no. in Range :\")\n",
    "range_end = int_input(\"Last no in Range :\")\n",
    "\n",
    "# the number of chances are less w.r.t. the range\n",
    "chances = int(abs(range_end - range_start)**(1/2))\n",
    "\n",
    "print(\"You have\",chances,\"chances to guess the number from\",range_start,\"to\",range_end)"
   ]
  },
  {
   "cell_type": "code",
   "execution_count": 40,
   "metadata": {},
   "outputs": [],
   "source": [
    "# choosing random answer to guess\n",
    "answer = random.randint(range_start, range_end)"
   ]
  },
  {
   "cell_type": "code",
   "execution_count": 41,
   "metadata": {},
   "outputs": [],
   "source": [
    "# the power ups to make the range smaller as it goes on\n",
    "# index 0 halfes the range, and index 1 tells if the answer is divisible by itself\n",
    "power_ups = [\"/2\", 2]"
   ]
  },
  {
   "cell_type": "code",
   "execution_count": 42,
   "metadata": {},
   "outputs": [
    {
     "name": "stdout",
     "output_type": "stream",
     "text": [
      "The answer is not divisible by 2\n",
      "The answer is not divisible by 3\n",
      "The answer is not divisible by 4\n",
      "The answer is not divisible by 5\n",
      "You are out of guesses. The answer was 1\n",
      "Better luck next time\n"
     ]
    }
   ],
   "source": [
    "won = 0\n",
    "\n",
    "# the game loop that askes for guesses\n",
    "for i in range(chances):\n",
    "    guess = input(f\"Guess {i+1}:\")\n",
    "\n",
    "    #winning condition\n",
    "    if guess == answer:\n",
    "        print(\"Congratulations!, You guessed the number in your\",guess,\"try\")\n",
    "        won = 1\n",
    "        break\n",
    "    else:\n",
    "        # choosing a random power up\n",
    "        power = random.choice(power_ups)\n",
    "\n",
    "        # if the power is and integer we return if its divisivle by the answer\n",
    "        if type(power) == int:\n",
    "            if answer%power==0:\n",
    "                print(\"The answer is divisible by\",power)\n",
    "            else:\n",
    "                print(\"The answer is not divisible by\",power)\n",
    "            \n",
    "            # increasing the number so as to get new info next time this powerup rolls \n",
    "            power_ups[1] += 1\n",
    "\n",
    "        else:\n",
    "            # if power is first we half the range and tell between what numbers the answer is\n",
    "            half = (range_end-range_start)//2\n",
    "            if answer>half:\n",
    "                print(\"The answer is between\",half,\"and\",range_end)\n",
    "                range_start = half\n",
    "            elif answer<half:\n",
    "                print(\"The answer is between\", range_start,\"and\",half)\n",
    "                range_end = half\n",
    "            else:\n",
    "                print(\"The answer is the\",half)\n",
    "\n",
    "# celebrating\n",
    "\n",
    "if won:\n",
    "    print(\"You Won\")\n",
    "else:\n",
    "    print(\"You are out of guesses. The answer was\",answer)\n",
    "    print(\"Better luck next time\")"
   ]
  }
 ],
 "metadata": {
  "interpreter": {
   "hash": "df0893f56f349688326838aaeea0de204df53a132722cbd565e54b24a8fec5f6"
  },
  "kernelspec": {
   "display_name": "Python 3.8.10 64-bit",
   "language": "python",
   "name": "python3"
  },
  "language_info": {
   "codemirror_mode": {
    "name": "ipython",
    "version": 3
   },
   "file_extension": ".py",
   "mimetype": "text/x-python",
   "name": "python",
   "nbconvert_exporter": "python",
   "pygments_lexer": "ipython3",
   "version": "3.8.10"
  },
  "orig_nbformat": 4
 },
 "nbformat": 4,
 "nbformat_minor": 2
}

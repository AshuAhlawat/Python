{
 "cells": [
  {
   "cell_type": "code",
   "execution_count": 57,
   "metadata": {},
   "outputs": [],
   "source": [
    "#Import to generate random number\n",
    "from random import randint"
   ]
  },
  {
   "cell_type": "code",
   "execution_count": 58,
   "metadata": {},
   "outputs": [],
   "source": [
    "#binary search algorithm implemented on a list\n",
    "#returns boolean : True for hit and False for miss\n",
    "def b_search(randomList, num)-> bool:\n",
    "\n",
    "    if len(randomList)>1:\n",
    "        #finding the mid index and the element at that index\n",
    "        mid = int(len(randomList)/2)\n",
    "        pivot = randomList[mid]\n",
    "\n",
    "        if pivot == num:\n",
    "            #returning if pivot itself is the number\n",
    "            return True\n",
    "        elif pivot < num:\n",
    "            #recursing with right half of list\n",
    "            return b_search(randomList[mid:], num)\n",
    "        else:\n",
    "            #recursing with left halfo of list\n",
    "            return b_search(randomList[:mid], num)\n",
    "\n",
    "    else:\n",
    "        if randomList[0] == num:\n",
    "            return True\n",
    "        else:\n",
    "            return False"
   ]
  },
  {
   "cell_type": "code",
   "execution_count": 59,
   "metadata": {},
   "outputs": [
    {
     "name": "stdout",
     "output_type": "stream",
     "text": [
      "Random List Generated\n",
      "[22, 24, 26, 28, 30, 32, 34, 36, 38, 40, 42, 44, 46, 48, 50, 52, 54, 56, 58, 60, 62, 64, 66, 68, 70, 72, 74, 76, 78, 80, 82, 84, 86, 88, 90, 92, 94, 96, 98]\n",
      "\n",
      "\n",
      "Yes! your number is present in the list.\n"
     ]
    }
   ],
   "source": [
    "#main function\n",
    "def main():\n",
    "    #Generating a random number b/w 0 and 100\n",
    "    rand = randint(0, 100)\n",
    "    randList = []\n",
    "\n",
    "    #incrementing the random number by 2 till 100 and appending results in a list\n",
    "    for i in range(rand,100,2):\n",
    "        randList.append(i)\n",
    "\n",
    "    print(\"Random List Generated\")\n",
    "    print(randList)\n",
    "\n",
    "    #taking input to search in the random list\n",
    "    while True:\n",
    "        try:\n",
    "            num = int(input(\"Enter Number to search -\"))\n",
    "            if num:\n",
    "                break\n",
    "            else:\n",
    "                print(\"Error! Renter.\")\n",
    "        except:\n",
    "            print(\"Wrong Input, Try again\")\n",
    "\n",
    "    #cheching using binary search if num present in list\n",
    "    hit = b_search(randList, num)\n",
    "\n",
    "    if hit:\n",
    "        print(\"\\n\\nYes! your number is present in the list.\")\n",
    "    else:\n",
    "        print(\"\\n\\nNo.. The number is not in the list.\")\n",
    "\n",
    "\n",
    "main()"
   ]
  }
 ],
 "metadata": {
  "interpreter": {
   "hash": "916dbcbb3f70747c44a77c7bcd40155683ae19c65e1c03b4aa3499c5328201f1"
  },
  "kernelspec": {
   "display_name": "Python 3.8.10 64-bit",
   "language": "python",
   "name": "python3"
  },
  "language_info": {
   "codemirror_mode": {
    "name": "ipython",
    "version": 3
   },
   "file_extension": ".py",
   "mimetype": "text/x-python",
   "name": "python",
   "nbconvert_exporter": "python",
   "pygments_lexer": "ipython3",
   "version": "3.8.10"
  },
  "orig_nbformat": 4
 },
 "nbformat": 4,
 "nbformat_minor": 2
}
